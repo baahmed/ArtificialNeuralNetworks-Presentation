{
 "cells": [
  {
   "cell_type": "markdown",
   "metadata": {},
   "source": [
    "# Cost Function Derivation"
   ]
  },
  {
   "cell_type": "markdown",
   "metadata": {},
   "source": [
    "## Problem Statement"
   ]
  },
  {
   "cell_type": "markdown",
   "metadata": {},
   "source": [
    "\\begin{equation*}\n",
    "\\hat{y} = P(y=1 | x^{(i)})\n",
    "\\end{equation*}"
   ]
  },
  {
   "cell_type": "markdown",
   "metadata": {},
   "source": [
    "## Why are we doing all this?"
   ]
  },
  {
   "cell_type": "markdown",
   "metadata": {},
   "source": [
    "\\begin{align}\n",
    "\\hat{y} & \\approx y\n",
    "\\end{align}"
   ]
  },
  {
   "cell_type": "markdown",
   "metadata": {},
   "source": [
    "But... just subtracting and optimizing won't work well. The function will not be convex like that! Let's try to find a better loss function."
   ]
  },
  {
   "cell_type": "markdown",
   "metadata": {},
   "source": [
    "## TARGET 1: find a loss function for the perceptron."
   ]
  },
  {
   "cell_type": "markdown",
   "metadata": {},
   "source": [
    "Let's try to make the y a random variable."
   ]
  },
  {
   "cell_type": "markdown",
   "metadata": {},
   "source": [
    "\\begin{align}\n",
    "P(Y | x^{(i)})   = \\hat{y}^y (1-\\hat{y})^{1-y}\n",
    "\\end{align}"
   ]
  },
  {
   "cell_type": "markdown",
   "metadata": {},
   "source": [
    "If y = 1..."
   ]
  },
  {
   "cell_type": "markdown",
   "metadata": {},
   "source": [
    "\\begin{align}\n",
    "P(y=1 | x^{(i)})   = \\hat{y}^y\n",
    "\\end{align}"
   ]
  },
  {
   "cell_type": "markdown",
   "metadata": {},
   "source": [
    "If y = 0..."
   ]
  },
  {
   "cell_type": "markdown",
   "metadata": {},
   "source": [
    "\\begin{align}\n",
    "P(y=0 | x^{(i)}) = (1-\\hat{y})^{1-y}\n",
    "\\end{align}"
   ]
  },
  {
   "cell_type": "markdown",
   "metadata": {},
   "source": [
    "If we maximize the function, we get "
   ]
  },
  {
   "cell_type": "markdown",
   "metadata": {},
   "source": [
    "\\begin{equation*}\n",
    "\\hat{y} = P(y=1 | x^{(i)})\n",
    "\\end{equation*}"
   ]
  },
  {
   "cell_type": "markdown",
   "metadata": {},
   "source": [
    "Therefore, we work further with this function."
   ]
  },
  {
   "cell_type": "markdown",
   "metadata": {},
   "source": [
    "\\begin{align}\n",
    "P(Y | x^{(i)})   = \\hat{y}^y (1-\\hat{y})^{1-y}        \\hspace{1 cm} (1)\n",
    "\\end{align}"
   ]
  },
  {
   "cell_type": "markdown",
   "metadata": {},
   "source": [
    "Where... (theta expresses w and b, b being the first element)"
   ]
  },
  {
   "cell_type": "markdown",
   "metadata": {},
   "source": [
    "### Activation Function"
   ]
  },
  {
   "cell_type": "markdown",
   "metadata": {},
   "source": [
    "\\begin{equation*}\n",
    "\\hat{y} = \n",
    "\\frac{1} {1+e^{-\\theta^{T} X}} =\n",
    "\\sigma(\\theta ^{T}X)\n",
    "\\end{equation*}"
   ]
  },
  {
   "cell_type": "markdown",
   "metadata": {},
   "source": [
    "### Is Equation 1 now a loss function we can minimize?"
   ]
  },
  {
   "cell_type": "markdown",
   "metadata": {},
   "source": [
    ">Two Problems.\n",
    "\n",
    ">- multiplication is not preferred when we differentiate to optimize.\n",
    ">- we need a minimization problem for the gradient descent algorithm."
   ]
  },
  {
   "cell_type": "markdown",
   "metadata": {},
   "source": [
    ">Solutions.\n",
    "\n",
    ">- Apply logarithm to convert the product to addition. Does not affect minimum.\n",
    ">- Multiply potential loss function by -1 to get a minimization problem."
   ]
  },
  {
   "cell_type": "markdown",
   "metadata": {},
   "source": [
    "\\begin{align}\n",
    "P(Y | x^{(i)}) & = \\log(\\hat{y}^y (1-\\hat{y})^{1-y}) \\\\\n",
    "\\end{align}"
   ]
  },
  {
   "cell_type": "markdown",
   "metadata": {},
   "source": [
    "Multiply by -1 to get a minimization problem..."
   ]
  },
  {
   "cell_type": "markdown",
   "metadata": {},
   "source": [
    "\\begin{align}\n",
    "L(\\theta) = P(Y |x^{(i)}) & = -[y\\log(\\hat{y}) + (1-y)\\log(1-\\hat{y})] \\hspace{1 cm} (2)\n",
    "\\end{align}"
   ]
  },
  {
   "cell_type": "markdown",
   "metadata": {},
   "source": [
    "### Our loss function above has been derived in equation 2. Now..."
   ]
  },
  {
   "cell_type": "markdown",
   "metadata": {},
   "source": [
    "## TARGET 2: Find the COST function for perceptron (agreggated loss)"
   ]
  },
  {
   "cell_type": "markdown",
   "metadata": {},
   "source": [
    "Since our probabilities per example are indepedent, we get the PRODUCT."
   ]
  },
  {
   "cell_type": "markdown",
   "metadata": {},
   "source": [
    "\\begin{align}\n",
    "P(Y |X) & = -\\prod_{i=1}^{m}[y^{(i)}\\log(\\hat{y})^{(i)} + (1-y^{(i)})\\log(1-\\hat{y}^{(i)})] \\hspace{1 cm} \n",
    "\\end{align}"
   ]
  },
  {
   "cell_type": "markdown",
   "metadata": {},
   "source": [
    "Again, differentiating the product will be messy. We apply log again (will not affect minimum) to turn product to sum."
   ]
  },
  {
   "cell_type": "markdown",
   "metadata": {},
   "source": [
    "\\begin{align}\n",
    "\\log(P(Y |X)) & = -\\sum_{i=1}^{m}log([y^{(i)}\\log(\\hat{y}^{(i)}) + (1-y^{(i)})\\log(1-\\hat{y}^{(i)})]) \\hspace{1 cm} \n",
    "\\end{align}"
   ]
  },
  {
   "cell_type": "markdown",
   "metadata": {},
   "source": [
    "Our final cost function will look like this:"
   ]
  },
  {
   "cell_type": "markdown",
   "metadata": {},
   "source": [
    "\\begin{align}\n",
    "J(\\theta) & = - \\frac{1}{m} \\sum_{i=1}^{m}[y^{(i)}\\log(\\hat{y}^{(i)}) + (1-y^{(i)})\\log(1-\\hat{y}^{(i)})] \\hspace{1 cm} (3*)\n",
    "\\end{align}"
   ]
  },
  {
   "cell_type": "markdown",
   "metadata": {},
   "source": [
    "## TARGET 3: Find the COST gradient (explain gradient descent in slide)"
   ]
  },
  {
   "cell_type": "markdown",
   "metadata": {},
   "source": [
    "\\begin{align}\n",
    "\\nabla & = \\frac{\\partial}{\\partial \\theta}[- \\frac{1}{m} \\sum_{i=1}^{m}[y^{(i)}\\log(\\hat{y}^{(i)}) + (1-y^{(i)})\\log(1-\\hat{y}^{(i)})]] \\hspace{1 cm} \n",
    "\\end{align}"
   ]
  },
  {
   "cell_type": "markdown",
   "metadata": {},
   "source": [
    "Since summation is a linear operator... it boils down to finding the loss function's derivative with respect to theta."
   ]
  },
  {
   "cell_type": "markdown",
   "metadata": {},
   "source": [
    "\\begin{align}\n",
    "\\nabla & = - \\frac{1}{m} \\sum_{i=1}^{m} \\frac{\\partial}{\\partial \\theta} [y^{(i)}\\log(\\hat{y}^{(i)}) + (1-y^{(i)})\\log(1-\\hat{y}^{(i)})] \\hspace{1 cm} \n",
    "\\end{align}"
   ]
  },
  {
   "cell_type": "markdown",
   "metadata": {},
   "source": [
    "Let's use the chain rule!"
   ]
  },
  {
   "cell_type": "markdown",
   "metadata": {},
   "source": [
    "\\begin{align}\n",
    "\\nabla = \\frac{\\partial J}{\\partial \\theta} = \\frac{\\partial J}{\\partial \\hat{y}} \\cdot \\frac{\\partial \\hat{y}}{\\partial \\theta}  \\hspace{1 cm}  (4)\\end{align} \n"
   ]
  },
  {
   "cell_type": "markdown",
   "metadata": {},
   "source": [
    "### Find \\begin{align} \\frac{\\partial J}{\\partial \\hat{y}}\\hspace{1 cm} \\end{align} "
   ]
  },
  {
   "cell_type": "markdown",
   "metadata": {},
   "source": [
    "\\begin{align}\n",
    " \\frac{\\partial J}{\\partial \\hat{y}}= - \\frac{1}{m} \\sum_{i=1}^{m} (\\frac{\\partial}{\\partial \\hat{y}} [y^{(i)}\\log(\\hat{y}^{(i)}) + (1-y^{(i)})\\log(1-\\hat{y}^{(i)})]) \\hspace{1 cm} \n",
    "\\end{align}"
   ]
  },
  {
   "cell_type": "markdown",
   "metadata": {},
   "source": [
    "Let the sum's argument be v."
   ]
  },
  {
   "cell_type": "markdown",
   "metadata": {},
   "source": [
    "\\begin{align}\n",
    "\\frac{\\partial v}{\\partial \\hat{y}} = \\frac{\\partial}{\\partial \\hat{y}} [y^{(i)}\\log(\\hat{y}^{(i)}) + (1-y^{(i)})\\log(1-\\hat{y}^{(i)})] \\hspace{1 cm} \n",
    "\\end{align}"
   ]
  },
  {
   "cell_type": "markdown",
   "metadata": {},
   "source": [
    "\\begin{align} = \\frac{\\partial}{\\partial \\hat{y}}( y^{(i)}\\log(\\hat{y}^{(i)})) +  \\frac{\\partial}{\\partial \\hat{y}} ((1-y^{(i)})\\log(1-\\hat{y}^{(i)})) \\hspace{1 cm} \n",
    "\\end{align}"
   ]
  },
  {
   "cell_type": "markdown",
   "metadata": {},
   "source": [
    "\\begin{align} = \\frac{y^{(i)}}{\\hat{y}^{(i)}}  -\\frac{1-y^{(i)}}{1-\\hat{y}^{(i)}} \\hspace{1 cm} \n",
    "\\end{align}"
   ]
  },
  {
   "cell_type": "markdown",
   "metadata": {},
   "source": [
    "take the negative sign of the cost function inside."
   ]
  },
  {
   "cell_type": "markdown",
   "metadata": {},
   "source": [
    "\\begin{align} -v = -\\frac{y^{(i)}}{\\hat{y}^{(i)}}  + \\frac{1-y^{(i)}}{1-\\hat{y}^{(i)}} \\hspace{1 cm} \n",
    "\\end{align}"
   ]
  },
  {
   "cell_type": "markdown",
   "metadata": {},
   "source": [
    "\\begin{align} -v = -\\frac{y^{(i)}(1-\\hat{y}^{(i)})}{\\hat{y}^{(i)}(1-\\hat{y}^{(i)})}  + \\frac{(1-y^{(i)})(\\hat{y}^{(i)})}{(1-\\hat{y}^{(i)})(\\hat{y}^{(i)})} \\hspace{1 cm} \n",
    "\\end{align}"
   ]
  },
  {
   "cell_type": "markdown",
   "metadata": {},
   "source": [
    "\\begin{align} -v = \\frac{-y^{(i)}+\\hat{y}^{(i)}y^{(i)} - \\hat{y}^{(i)}y^{(i)} + \\hat{y}^{(i)} }{(1-\\hat{y}^{(i)})(\\hat{y}^{(i)})} \\hspace{1 cm} \n",
    "\\end{align}"
   ]
  },
  {
   "cell_type": "markdown",
   "metadata": {},
   "source": [
    "\\begin{align} -v = \\frac{-y^{(i)}+ \\hat{y}^{(i)} }{(1-\\hat{y}^{(i)})(\\hat{y}^{(i)})} \\hspace{1 cm} (5)\n",
    "\\end{align} "
   ]
  },
  {
   "cell_type": "markdown",
   "metadata": {},
   "source": [
    "### Find \\begin{align} \\frac{\\partial \\hat{y}}{\\partial \\theta }\\hspace{1 cm} \\end{align} "
   ]
  },
  {
   "cell_type": "markdown",
   "metadata": {},
   "source": [
    "\\begin{align} \\frac{\\partial \\hat{y}}{\\partial \\theta } = \n",
    "\\frac{\\partial}{\\partial \\theta } (\\frac{1} {1+e^{-\\theta^{T} X}})\n",
    "\\hspace{1 cm} \\end{align}  "
   ]
  },
  {
   "cell_type": "markdown",
   "metadata": {},
   "source": [
    "\\begin{align} = \n",
    "\\frac{X e^{-\\theta^{T} X}} {({1+e^{-\\theta^{T} X}})^{2}}\n",
    "\\hspace{1 cm} \\end{align}  "
   ]
  },
  {
   "cell_type": "markdown",
   "metadata": {},
   "source": [
    "\\begin{align} = \n",
    "X \\frac{e^{-\\theta^{T} X}} {({1+e^{-\\theta^{T} X}})} \\frac{1} {({1+e^{-\\theta^{T} X}})}\n",
    "\\hspace{1 cm} \\end{align}  "
   ]
  },
  {
   "cell_type": "markdown",
   "metadata": {},
   "source": [
    "\\begin{align} = \n",
    "X \\hat{y} \\frac{e^{-\\theta^{T} X}} {({1+e^{-\\theta^{T} X}})}\n",
    "\\hspace{1 cm} \\end{align}  "
   ]
  },
  {
   "cell_type": "markdown",
   "metadata": {},
   "source": [
    "\\begin{align} = \n",
    "X \\hat{y} \\frac{1-1+e^{-\\theta^{T} X}} {({1+e^{-\\theta^{T} X}})}\n",
    "\\hspace{1 cm} \\end{align}  "
   ]
  },
  {
   "cell_type": "markdown",
   "metadata": {},
   "source": [
    "\\begin{align} = \n",
    "X \\hat{y} \\frac{-1} {({1+e^{-\\theta^{T} X}})} + \\frac{(1+e^{-\\theta^{T} X})} {({1+e^{-\\theta^{T} X}})}\n",
    "\\hspace{1 cm} \\end{align}  "
   ]
  },
  {
   "cell_type": "markdown",
   "metadata": {},
   "source": [
    "\\begin{align}  \\frac{\\partial \\hat{y}}{\\partial \\theta }\n",
    "= (X) (\\hat(y))(1-\\hat(y))\n",
    "\\hspace{1 cm} (6)\\end{align} "
   ]
  },
  {
   "cell_type": "markdown",
   "metadata": {},
   "source": [
    "### Plug in gradients to find the cost gradient"
   ]
  },
  {
   "cell_type": "markdown",
   "metadata": {},
   "source": [
    "using (5) and (6) in (4)"
   ]
  },
  {
   "cell_type": "markdown",
   "metadata": {},
   "source": [
    "\\begin{align}\n",
    " \\frac{\\partial J}{\\partial \\theta}= \\frac{1}{m} \\sum_{i=1}^{m} \\frac{-y^{(i)}+ \\hat{y}^{(i)} }{(1-\\hat{y}^{(i)})(\\hat{y}^{(i)})} (X) (\\hat(y))(1-\\hat(y)) \\hspace{1 cm} \n",
    "\\end{align}"
   ]
  },
  {
   "cell_type": "markdown",
   "metadata": {},
   "source": [
    "\\begin{align}\n",
    "\\nabla =  \\frac{\\partial J}{\\partial \\theta}= \\frac{1}{m} \\sum_{i=1}^{m} ( \\hat{y}^{(i)}-y^{(i)} ) (X)  \\hspace{1 cm} (7) \n",
    "\\end{align}"
   ]
  },
  {
   "cell_type": "markdown",
   "metadata": {},
   "source": [
    "<br><br><br><br><br><br><br>\n",
    "# Churn Analysis: ANN Case Study"
   ]
  },
  {
   "cell_type": "markdown",
   "metadata": {},
   "source": [
    "Challenges\n",
    "><ul>\n",
    "    <li>Initializing weights the right way</li>\n",
    " </ul>\n",
    " \n",
    "Keras is a wrapper that can be latched onto backends like tensorflow or theano to be integrated into the machine learning workflow."
   ]
  },
  {
   "cell_type": "markdown",
   "metadata": {},
   "source": [
    "**Attributes and their Descriptions:**\n",
    "\n",
    "<table style=\"width:100%\" >\n",
    "  <tr>\n",
    "    <th style=\"text-align: center; vertical-align: middle;\">Feature Name</th>\n",
    "    <th style=\"text-align: center; vertical-align: middle;\">Feature Description</th>\n",
    "    <th style=\"text-align: center; vertical-align: middle;\">Feature Format</th>\n",
    "  </tr>\n",
    "  <tr>\n",
    "    <td style=\"text-align: left; vertical-align: middle;\">CustomerID</td>\n",
    "    <td style=\"text-align: left; vertical-align: middle;\">the unique identifier of the customer</td>\n",
    "    <td style=\"text-align: left; vertical-align: middle;\">a numerical ID</td>\n",
    "  </tr>\n",
    "    \n",
    "  <tr>\n",
    "    <td style=\"text-align: left; vertical-align: middle;\">Surname</td>\n",
    "    <td style=\"text-align: left; vertical-align: middle;\">the last name associated with the customer</td>\n",
    "    <td style=\"text-align: left; vertical-align: middle;\">string</td>\n",
    "  </tr>\n",
    "  <tr>\n",
    "    <td style=\"text-align: left; vertical-align: middle;\">CreditScore</td>\n",
    "    <td style=\"text-align: left; vertical-align: middle;\">A value that represents a customer's \"credit worthiness,\" that is, how credible they are to lenders. It's based on a customer's number of open accounts, repayment history, and other relevant factors.</td>\n",
    "    <td style=\"text-align: left; vertical-align: middle;\">a numerical value from 300-850: 300-629 - bad, 630-689 - fair, 690-719 - good, and 720-850 - excellent</td>\n",
    "  </tr>\n",
    "   <tr>\n",
    "    <td style=\"text-align: left; vertical-align: middle;\">Geography</td>\n",
    "    <td style=\"text-align: left; vertical-align: middle;\">the customer's region</td>\n",
    "    <td style=\"text-align: left; vertical-align: middle;\">string</td>\n",
    "  </tr>\n",
    "  \n",
    "   \n",
    "   <tr>\n",
    "    <td style=\"text-align: left; vertical-align: middle;\">Gender</td>\n",
    "    <td style=\"text-align: left; vertical-align: middle;\">male or female</td>\n",
    "    <td style=\"text-align: left; vertical-align: middle;\">string</td>\n",
    "  </tr>\n",
    "  \n",
    "   <tr>\n",
    "    <td style=\"text-align: left; vertical-align: middle;\">Age</td>\n",
    "    <td style=\"text-align: left; vertical-align: middle;\">the age of the customer</td>\n",
    "    <td style=\"text-align: left; vertical-align: middle;\">numerical</td>\n",
    "  </tr>\n",
    " \n",
    "  \n",
    "   <tr>\n",
    "    <td style=\"text-align: left; vertical-align: middle;\">Tenure</td>\n",
    "    <td style=\"text-align: left; vertical-align: middle;\">The number of posessions held by the customer</td>\n",
    "    <td style=\"text-align: left; vertical-align: middle;\">numerical</td>\n",
    "  </tr>\n",
    "  \n",
    "   <tr>\n",
    "    <td style=\"text-align: left; vertical-align: middle;\">Balance</td>\n",
    "    <td style=\"text-align: left; vertical-align: middle;\">indicates the amount money a customer has</td>\n",
    "    <td style=\"text-align: left; vertical-align: middle;\">numerical continuous value</td>\n",
    "  </tr>\n",
    "  \n",
    "   <tr>\n",
    "    <td style=\"text-align: left; vertical-align: middle;\">NumOfProducts</td>\n",
    "    <td style=\"text-align: left; vertical-align: middle;\">indicates how many distinct products this customer used</td>\n",
    "    <td style=\"text-align: left; vertical-align: middle;\">numerical discrete value</td>\n",
    "  </tr>\n",
    "  \n",
    "  \n",
    "   <tr>\n",
    "    <td style=\"text-align: left; vertical-align: middle;\">HasCrCard</td>\n",
    "    <td style=\"text-align: left; vertical-align: middle;\">whether the customer has a credit card associated or not</td>\n",
    "    <td style=\"text-align: left; vertical-align: middle;\">True (1) or False (0)</td>\n",
    "  </tr>\n",
    "  \n",
    "  \n",
    "    \n",
    "   <tr>\n",
    "    <td style=\"text-align: left; vertical-align: middle;\">IsActiveMember</td>\n",
    "    <td style=\"text-align: left; vertical-align: middle;\">???</td>\n",
    "    <td style=\"text-align: left; vertical-align: middle;\">True (1) or False (0)</td>\n",
    "  </tr>\n",
    "  \n",
    "  \n",
    "   <tr>\n",
    "    <td style=\"text-align: left; vertical-align: middle;\">Estimated Salary</td>\n",
    "    <td style=\"text-align: left; vertical-align: middle;\">the customer's approximated salary</td>\n",
    "    <td style=\"text-align: left; vertical-align: middle;\">numerical continuous value</td>\n",
    "  </tr>\n",
    "  \n",
    "    \n",
    "   <tr>\n",
    "    <td style=\"text-align: left; vertical-align: middle;\">Exited</td>\n",
    "    <td style=\"text-align: left; vertical-align: middle;\">indicates whether the customer stopped using my services</td>\n",
    "    <td style=\"text-align: left; vertical-align: middle;\">True (1) or False (0)</td>\n",
    "  </tr>\n",
    "  \n",
    "</table>"
   ]
  },
  {
   "cell_type": "markdown",
   "metadata": {},
   "source": [
    "Comments\n",
    "><ol>\n",
    "    <li>There is no datetime stamp to this data. It seems to have been taken at a snapshot of time. This limits the validity and relevance of this data.</li>\n",
    "    <li>The products themselves are not indicated, which limits our analysis: knowing the product lines, we could diversify and expand more wisely and provide promotions for the right products.</li>\n",
    "\n",
    "</ol>\n",
    "<br>"
   ]
  },
  {
   "cell_type": "code",
   "execution_count": 38,
   "metadata": {},
   "outputs": [],
   "source": [
    "#data processing and cleaning (&exploration)\n",
    "import numpy as np\n",
    "import pandas as pd\n",
    "\n",
    "#data visualization and exploration\n",
    "from matplotlib import pyplot as plt\n",
    "import seaborn as sns\n",
    "%matplotlib inline"
   ]
  },
  {
   "cell_type": "code",
   "execution_count": 2,
   "metadata": {},
   "outputs": [
    {
     "data": {
      "text/html": [
       "<div>\n",
       "<style scoped>\n",
       "    .dataframe tbody tr th:only-of-type {\n",
       "        vertical-align: middle;\n",
       "    }\n",
       "\n",
       "    .dataframe tbody tr th {\n",
       "        vertical-align: top;\n",
       "    }\n",
       "\n",
       "    .dataframe thead th {\n",
       "        text-align: right;\n",
       "    }\n",
       "</style>\n",
       "<table border=\"1\" class=\"dataframe\">\n",
       "  <thead>\n",
       "    <tr style=\"text-align: right;\">\n",
       "      <th></th>\n",
       "      <th>RowNumber</th>\n",
       "      <th>CustomerId</th>\n",
       "      <th>Surname</th>\n",
       "      <th>CreditScore</th>\n",
       "      <th>Geography</th>\n",
       "      <th>Gender</th>\n",
       "      <th>Age</th>\n",
       "      <th>Tenure</th>\n",
       "      <th>Balance</th>\n",
       "      <th>NumOfProducts</th>\n",
       "      <th>HasCrCard</th>\n",
       "      <th>IsActiveMember</th>\n",
       "      <th>EstimatedSalary</th>\n",
       "      <th>Exited</th>\n",
       "    </tr>\n",
       "  </thead>\n",
       "  <tbody>\n",
       "    <tr>\n",
       "      <td>0</td>\n",
       "      <td>1</td>\n",
       "      <td>15634602</td>\n",
       "      <td>Hargrave</td>\n",
       "      <td>619</td>\n",
       "      <td>France</td>\n",
       "      <td>Female</td>\n",
       "      <td>42</td>\n",
       "      <td>2</td>\n",
       "      <td>0.00</td>\n",
       "      <td>1</td>\n",
       "      <td>1</td>\n",
       "      <td>1</td>\n",
       "      <td>101348.88</td>\n",
       "      <td>1</td>\n",
       "    </tr>\n",
       "    <tr>\n",
       "      <td>1</td>\n",
       "      <td>2</td>\n",
       "      <td>15647311</td>\n",
       "      <td>Hill</td>\n",
       "      <td>608</td>\n",
       "      <td>Spain</td>\n",
       "      <td>Female</td>\n",
       "      <td>41</td>\n",
       "      <td>1</td>\n",
       "      <td>83807.86</td>\n",
       "      <td>1</td>\n",
       "      <td>0</td>\n",
       "      <td>1</td>\n",
       "      <td>112542.58</td>\n",
       "      <td>0</td>\n",
       "    </tr>\n",
       "    <tr>\n",
       "      <td>2</td>\n",
       "      <td>3</td>\n",
       "      <td>15619304</td>\n",
       "      <td>Onio</td>\n",
       "      <td>502</td>\n",
       "      <td>France</td>\n",
       "      <td>Female</td>\n",
       "      <td>42</td>\n",
       "      <td>8</td>\n",
       "      <td>159660.80</td>\n",
       "      <td>3</td>\n",
       "      <td>1</td>\n",
       "      <td>0</td>\n",
       "      <td>113931.57</td>\n",
       "      <td>1</td>\n",
       "    </tr>\n",
       "    <tr>\n",
       "      <td>3</td>\n",
       "      <td>4</td>\n",
       "      <td>15701354</td>\n",
       "      <td>Boni</td>\n",
       "      <td>699</td>\n",
       "      <td>France</td>\n",
       "      <td>Female</td>\n",
       "      <td>39</td>\n",
       "      <td>1</td>\n",
       "      <td>0.00</td>\n",
       "      <td>2</td>\n",
       "      <td>0</td>\n",
       "      <td>0</td>\n",
       "      <td>93826.63</td>\n",
       "      <td>0</td>\n",
       "    </tr>\n",
       "    <tr>\n",
       "      <td>4</td>\n",
       "      <td>5</td>\n",
       "      <td>15737888</td>\n",
       "      <td>Mitchell</td>\n",
       "      <td>850</td>\n",
       "      <td>Spain</td>\n",
       "      <td>Female</td>\n",
       "      <td>43</td>\n",
       "      <td>2</td>\n",
       "      <td>125510.82</td>\n",
       "      <td>1</td>\n",
       "      <td>1</td>\n",
       "      <td>1</td>\n",
       "      <td>79084.10</td>\n",
       "      <td>0</td>\n",
       "    </tr>\n",
       "  </tbody>\n",
       "</table>\n",
       "</div>"
      ],
      "text/plain": [
       "   RowNumber  CustomerId   Surname  CreditScore Geography  Gender  Age  \\\n",
       "0          1    15634602  Hargrave          619    France  Female   42   \n",
       "1          2    15647311      Hill          608     Spain  Female   41   \n",
       "2          3    15619304      Onio          502    France  Female   42   \n",
       "3          4    15701354      Boni          699    France  Female   39   \n",
       "4          5    15737888  Mitchell          850     Spain  Female   43   \n",
       "\n",
       "   Tenure    Balance  NumOfProducts  HasCrCard  IsActiveMember  \\\n",
       "0       2       0.00              1          1               1   \n",
       "1       1   83807.86              1          0               1   \n",
       "2       8  159660.80              3          1               0   \n",
       "3       1       0.00              2          0               0   \n",
       "4       2  125510.82              1          1               1   \n",
       "\n",
       "   EstimatedSalary  Exited  \n",
       "0        101348.88       1  \n",
       "1        112542.58       0  \n",
       "2        113931.57       1  \n",
       "3         93826.63       0  \n",
       "4         79084.10       0  "
      ]
     },
     "execution_count": 2,
     "metadata": {},
     "output_type": "execute_result"
    }
   ],
   "source": [
    "df_churn = pd.read_csv('Churn_Modelling.csv')\n",
    "df_churn.head()"
   ]
  },
  {
   "cell_type": "markdown",
   "metadata": {},
   "source": [
    "We do have some evidently useless columns for the churn analysis. Let's drop them. Note that we could aggregate by ID usually, but in this case, one ID corresponds to one column as shown below."
   ]
  },
  {
   "cell_type": "code",
   "execution_count": 3,
   "metadata": {},
   "outputs": [
    {
     "data": {
      "text/plain": [
       "15812607    1\n",
       "15741078    1\n",
       "15635776    1\n",
       "15740223    1\n",
       "15738174    1\n",
       "           ..\n",
       "15743714    1\n",
       "15639265    1\n",
       "15641312    1\n",
       "15684319    1\n",
       "15695872    1\n",
       "Name: CustomerId, Length: 10000, dtype: int64"
      ]
     },
     "execution_count": 3,
     "metadata": {},
     "output_type": "execute_result"
    }
   ],
   "source": [
    "df_churn['CustomerId'].value_counts()"
   ]
  },
  {
   "cell_type": "code",
   "execution_count": 4,
   "metadata": {},
   "outputs": [
    {
     "data": {
      "text/html": [
       "<div>\n",
       "<style scoped>\n",
       "    .dataframe tbody tr th:only-of-type {\n",
       "        vertical-align: middle;\n",
       "    }\n",
       "\n",
       "    .dataframe tbody tr th {\n",
       "        vertical-align: top;\n",
       "    }\n",
       "\n",
       "    .dataframe thead th {\n",
       "        text-align: right;\n",
       "    }\n",
       "</style>\n",
       "<table border=\"1\" class=\"dataframe\">\n",
       "  <thead>\n",
       "    <tr style=\"text-align: right;\">\n",
       "      <th></th>\n",
       "      <th>CreditScore</th>\n",
       "      <th>Geography</th>\n",
       "      <th>Gender</th>\n",
       "      <th>Age</th>\n",
       "      <th>Tenure</th>\n",
       "      <th>Balance</th>\n",
       "      <th>NumOfProducts</th>\n",
       "      <th>HasCrCard</th>\n",
       "      <th>IsActiveMember</th>\n",
       "      <th>EstimatedSalary</th>\n",
       "      <th>Exited</th>\n",
       "    </tr>\n",
       "  </thead>\n",
       "  <tbody>\n",
       "    <tr>\n",
       "      <td>0</td>\n",
       "      <td>619</td>\n",
       "      <td>France</td>\n",
       "      <td>Female</td>\n",
       "      <td>42</td>\n",
       "      <td>2</td>\n",
       "      <td>0.00</td>\n",
       "      <td>1</td>\n",
       "      <td>1</td>\n",
       "      <td>1</td>\n",
       "      <td>101348.88</td>\n",
       "      <td>1</td>\n",
       "    </tr>\n",
       "    <tr>\n",
       "      <td>1</td>\n",
       "      <td>608</td>\n",
       "      <td>Spain</td>\n",
       "      <td>Female</td>\n",
       "      <td>41</td>\n",
       "      <td>1</td>\n",
       "      <td>83807.86</td>\n",
       "      <td>1</td>\n",
       "      <td>0</td>\n",
       "      <td>1</td>\n",
       "      <td>112542.58</td>\n",
       "      <td>0</td>\n",
       "    </tr>\n",
       "    <tr>\n",
       "      <td>2</td>\n",
       "      <td>502</td>\n",
       "      <td>France</td>\n",
       "      <td>Female</td>\n",
       "      <td>42</td>\n",
       "      <td>8</td>\n",
       "      <td>159660.80</td>\n",
       "      <td>3</td>\n",
       "      <td>1</td>\n",
       "      <td>0</td>\n",
       "      <td>113931.57</td>\n",
       "      <td>1</td>\n",
       "    </tr>\n",
       "    <tr>\n",
       "      <td>3</td>\n",
       "      <td>699</td>\n",
       "      <td>France</td>\n",
       "      <td>Female</td>\n",
       "      <td>39</td>\n",
       "      <td>1</td>\n",
       "      <td>0.00</td>\n",
       "      <td>2</td>\n",
       "      <td>0</td>\n",
       "      <td>0</td>\n",
       "      <td>93826.63</td>\n",
       "      <td>0</td>\n",
       "    </tr>\n",
       "    <tr>\n",
       "      <td>4</td>\n",
       "      <td>850</td>\n",
       "      <td>Spain</td>\n",
       "      <td>Female</td>\n",
       "      <td>43</td>\n",
       "      <td>2</td>\n",
       "      <td>125510.82</td>\n",
       "      <td>1</td>\n",
       "      <td>1</td>\n",
       "      <td>1</td>\n",
       "      <td>79084.10</td>\n",
       "      <td>0</td>\n",
       "    </tr>\n",
       "  </tbody>\n",
       "</table>\n",
       "</div>"
      ],
      "text/plain": [
       "   CreditScore Geography  Gender  Age  Tenure    Balance  NumOfProducts  \\\n",
       "0          619    France  Female   42       2       0.00              1   \n",
       "1          608     Spain  Female   41       1   83807.86              1   \n",
       "2          502    France  Female   42       8  159660.80              3   \n",
       "3          699    France  Female   39       1       0.00              2   \n",
       "4          850     Spain  Female   43       2  125510.82              1   \n",
       "\n",
       "   HasCrCard  IsActiveMember  EstimatedSalary  Exited  \n",
       "0          1               1        101348.88       1  \n",
       "1          0               1        112542.58       0  \n",
       "2          1               0        113931.57       1  \n",
       "3          0               0         93826.63       0  \n",
       "4          1               1         79084.10       0  "
      ]
     },
     "execution_count": 4,
     "metadata": {},
     "output_type": "execute_result"
    }
   ],
   "source": [
    "df_churn.drop(['RowNumber','CustomerId','Surname'],axis=1,inplace = True)\n",
    "df_churn.head()"
   ]
  },
  {
   "cell_type": "markdown",
   "metadata": {},
   "source": [
    "Check the uniqueness of values, their consistency, and expression for missing values other than \"Nan\"."
   ]
  },
  {
   "cell_type": "code",
   "execution_count": 5,
   "metadata": {},
   "outputs": [],
   "source": [
    "def check_inconsistency(cols,df):\n",
    "    for col in cols:\n",
    "        print(col, \"has the following unique values:\",np.sort(df[col].unique()))\n",
    "        print()\n",
    "        print()"
   ]
  },
  {
   "cell_type": "code",
   "execution_count": 6,
   "metadata": {},
   "outputs": [
    {
     "name": "stdout",
     "output_type": "stream",
     "text": [
      "CreditScore has the following unique values: [350 351 358 359 363 365 367 373 376 382 383 386 395 399 401 404 405 407\n",
      " 408 410 411 412 413 414 415 416 417 418 419 420 421 422 423 424 425 426\n",
      " 427 428 429 430 431 432 433 434 435 436 437 438 439 440 441 442 443 444\n",
      " 445 446 447 448 449 450 451 452 453 454 455 456 457 458 459 460 461 462\n",
      " 463 464 465 466 467 468 469 470 471 472 473 474 475 476 477 478 479 480\n",
      " 481 482 483 484 485 486 487 488 489 490 491 492 493 494 495 496 497 498\n",
      " 499 500 501 502 503 504 505 506 507 508 509 510 511 512 513 514 515 516\n",
      " 517 518 519 520 521 522 523 524 525 526 527 528 529 530 531 532 533 534\n",
      " 535 536 537 538 539 540 541 542 543 544 545 546 547 548 549 550 551 552\n",
      " 553 554 555 556 557 558 559 560 561 562 563 564 565 566 567 568 569 570\n",
      " 571 572 573 574 575 576 577 578 579 580 581 582 583 584 585 586 587 588\n",
      " 589 590 591 592 593 594 595 596 597 598 599 600 601 602 603 604 605 606\n",
      " 607 608 609 610 611 612 613 614 615 616 617 618 619 620 621 622 623 624\n",
      " 625 626 627 628 629 630 631 632 633 634 635 636 637 638 639 640 641 642\n",
      " 643 644 645 646 647 648 649 650 651 652 653 654 655 656 657 658 659 660\n",
      " 661 662 663 664 665 666 667 668 669 670 671 672 673 674 675 676 677 678\n",
      " 679 680 681 682 683 684 685 686 687 688 689 690 691 692 693 694 695 696\n",
      " 697 698 699 700 701 702 703 704 705 706 707 708 709 710 711 712 713 714\n",
      " 715 716 717 718 719 720 721 722 723 724 725 726 727 728 729 730 731 732\n",
      " 733 734 735 736 737 738 739 740 741 742 743 744 745 746 747 748 749 750\n",
      " 751 752 753 754 755 756 757 758 759 760 761 762 763 764 765 766 767 768\n",
      " 769 770 771 772 773 774 775 776 777 778 779 780 781 782 783 784 785 786\n",
      " 787 788 789 790 791 792 793 794 795 796 797 798 799 800 801 802 803 804\n",
      " 805 806 807 808 809 810 811 812 813 814 815 816 817 818 819 820 821 822\n",
      " 823 824 825 826 827 828 829 830 831 832 833 834 835 836 837 838 839 840\n",
      " 841 842 843 844 845 846 847 848 849 850]\n",
      "\n",
      "\n",
      "Age has the following unique values: [18 19 20 21 22 23 24 25 26 27 28 29 30 31 32 33 34 35 36 37 38 39 40 41\n",
      " 42 43 44 45 46 47 48 49 50 51 52 53 54 55 56 57 58 59 60 61 62 63 64 65\n",
      " 66 67 68 69 70 71 72 73 74 75 76 77 78 79 80 81 82 83 84 85 88 92]\n",
      "\n",
      "\n",
      "Tenure has the following unique values: [ 0  1  2  3  4  5  6  7  8  9 10]\n",
      "\n",
      "\n",
      "Balance has the following unique values: [     0.     3768.69  12459.19 ... 222267.63 238387.56 250898.09]\n",
      "\n",
      "\n",
      "NumOfProducts has the following unique values: [1 2 3 4]\n",
      "\n",
      "\n",
      "HasCrCard has the following unique values: [0 1]\n",
      "\n",
      "\n",
      "IsActiveMember has the following unique values: [0 1]\n",
      "\n",
      "\n",
      "EstimatedSalary has the following unique values: [1.1580000e+01 9.0070000e+01 9.1750000e+01 ... 1.9995333e+05 1.9997074e+05\n",
      " 1.9999248e+05]\n",
      "\n",
      "\n",
      "Exited has the following unique values: [0 1]\n",
      "\n",
      "\n"
     ]
    }
   ],
   "source": [
    "check_inconsistency(['CreditScore','Age','Tenure','Balance','NumOfProducts','HasCrCard','IsActiveMember','EstimatedSalary','Exited'],df_churn)"
   ]
  },
  {
   "cell_type": "markdown",
   "metadata": {},
   "source": [
    "Great, no missing or inconsistent values! Let's see the data distribution."
   ]
  },
  {
   "cell_type": "code",
   "execution_count": 7,
   "metadata": {},
   "outputs": [
    {
     "data": {
      "image/png": "[encoded data removed]",
      "text/plain": [
       "<Figure size 1080x1080 with 9 Axes>"
      ]
     },
     "metadata": {
      "needs_background": "light"
     },
     "output_type": "display_data"
    }
   ],
   "source": [
    "df_churn.hist(figsize=(15,15));"
   ]
  },
  {
   "cell_type": "markdown",
   "metadata": {},
   "source": [
    ">Lots of 0 balances! What does this tell us?"
   ]
  },
  {
   "cell_type": "markdown",
   "metadata": {},
   "source": [
    "Now, let's see our data in numbers."
   ]
  },
  {
   "cell_type": "code",
   "execution_count": 8,
   "metadata": {
    "scrolled": false
   },
   "outputs": [
    {
     "data": {
      "text/html": [
       "<div>\n",
       "<style scoped>\n",
       "    .dataframe tbody tr th:only-of-type {\n",
       "        vertical-align: middle;\n",
       "    }\n",
       "\n",
       "    .dataframe tbody tr th {\n",
       "        vertical-align: top;\n",
       "    }\n",
       "\n",
       "    .dataframe thead th {\n",
       "        text-align: right;\n",
       "    }\n",
       "</style>\n",
       "<table border=\"1\" class=\"dataframe\">\n",
       "  <thead>\n",
       "    <tr style=\"text-align: right;\">\n",
       "      <th></th>\n",
       "      <th>CreditScore</th>\n",
       "      <th>Age</th>\n",
       "      <th>Tenure</th>\n",
       "      <th>Balance</th>\n",
       "      <th>NumOfProducts</th>\n",
       "      <th>HasCrCard</th>\n",
       "      <th>IsActiveMember</th>\n",
       "      <th>EstimatedSalary</th>\n",
       "      <th>Exited</th>\n",
       "    </tr>\n",
       "  </thead>\n",
       "  <tbody>\n",
       "    <tr>\n",
       "      <td>count</td>\n",
       "      <td>10000.000000</td>\n",
       "      <td>10000.000000</td>\n",
       "      <td>10000.000000</td>\n",
       "      <td>10000.000000</td>\n",
       "      <td>10000.000000</td>\n",
       "      <td>10000.00000</td>\n",
       "      <td>10000.000000</td>\n",
       "      <td>10000.000000</td>\n",
       "      <td>10000.000000</td>\n",
       "    </tr>\n",
       "    <tr>\n",
       "      <td>mean</td>\n",
       "      <td>650.528800</td>\n",
       "      <td>38.921800</td>\n",
       "      <td>5.012800</td>\n",
       "      <td>76485.889288</td>\n",
       "      <td>1.530200</td>\n",
       "      <td>0.70550</td>\n",
       "      <td>0.515100</td>\n",
       "      <td>100090.239881</td>\n",
       "      <td>0.203700</td>\n",
       "    </tr>\n",
       "    <tr>\n",
       "      <td>std</td>\n",
       "      <td>96.653299</td>\n",
       "      <td>10.487806</td>\n",
       "      <td>2.892174</td>\n",
       "      <td>62397.405202</td>\n",
       "      <td>0.581654</td>\n",
       "      <td>0.45584</td>\n",
       "      <td>0.499797</td>\n",
       "      <td>57510.492818</td>\n",
       "      <td>0.402769</td>\n",
       "    </tr>\n",
       "    <tr>\n",
       "      <td>min</td>\n",
       "      <td>350.000000</td>\n",
       "      <td>18.000000</td>\n",
       "      <td>0.000000</td>\n",
       "      <td>0.000000</td>\n",
       "      <td>1.000000</td>\n",
       "      <td>0.00000</td>\n",
       "      <td>0.000000</td>\n",
       "      <td>11.580000</td>\n",
       "      <td>0.000000</td>\n",
       "    </tr>\n",
       "    <tr>\n",
       "      <td>25%</td>\n",
       "      <td>584.000000</td>\n",
       "      <td>32.000000</td>\n",
       "      <td>3.000000</td>\n",
       "      <td>0.000000</td>\n",
       "      <td>1.000000</td>\n",
       "      <td>0.00000</td>\n",
       "      <td>0.000000</td>\n",
       "      <td>51002.110000</td>\n",
       "      <td>0.000000</td>\n",
       "    </tr>\n",
       "    <tr>\n",
       "      <td>50%</td>\n",
       "      <td>652.000000</td>\n",
       "      <td>37.000000</td>\n",
       "      <td>5.000000</td>\n",
       "      <td>97198.540000</td>\n",
       "      <td>1.000000</td>\n",
       "      <td>1.00000</td>\n",
       "      <td>1.000000</td>\n",
       "      <td>100193.915000</td>\n",
       "      <td>0.000000</td>\n",
       "    </tr>\n",
       "    <tr>\n",
       "      <td>75%</td>\n",
       "      <td>718.000000</td>\n",
       "      <td>44.000000</td>\n",
       "      <td>7.000000</td>\n",
       "      <td>127644.240000</td>\n",
       "      <td>2.000000</td>\n",
       "      <td>1.00000</td>\n",
       "      <td>1.000000</td>\n",
       "      <td>149388.247500</td>\n",
       "      <td>0.000000</td>\n",
       "    </tr>\n",
       "    <tr>\n",
       "      <td>max</td>\n",
       "      <td>850.000000</td>\n",
       "      <td>92.000000</td>\n",
       "      <td>10.000000</td>\n",
       "      <td>250898.090000</td>\n",
       "      <td>4.000000</td>\n",
       "      <td>1.00000</td>\n",
       "      <td>1.000000</td>\n",
       "      <td>199992.480000</td>\n",
       "      <td>1.000000</td>\n",
       "    </tr>\n",
       "  </tbody>\n",
       "</table>\n",
       "</div>"
      ],
      "text/plain": [
       "        CreditScore           Age        Tenure        Balance  NumOfProducts  \\\n",
       "count  10000.000000  10000.000000  10000.000000   10000.000000   10000.000000   \n",
       "mean     650.528800     38.921800      5.012800   76485.889288       1.530200   \n",
       "std       96.653299     10.487806      2.892174   62397.405202       0.581654   \n",
       "min      350.000000     18.000000      0.000000       0.000000       1.000000   \n",
       "25%      584.000000     32.000000      3.000000       0.000000       1.000000   \n",
       "50%      652.000000     37.000000      5.000000   97198.540000       1.000000   \n",
       "75%      718.000000     44.000000      7.000000  127644.240000       2.000000   \n",
       "max      850.000000     92.000000     10.000000  250898.090000       4.000000   \n",
       "\n",
       "         HasCrCard  IsActiveMember  EstimatedSalary        Exited  \n",
       "count  10000.00000    10000.000000     10000.000000  10000.000000  \n",
       "mean       0.70550        0.515100    100090.239881      0.203700  \n",
       "std        0.45584        0.499797     57510.492818      0.402769  \n",
       "min        0.00000        0.000000        11.580000      0.000000  \n",
       "25%        0.00000        0.000000     51002.110000      0.000000  \n",
       "50%        1.00000        1.000000    100193.915000      0.000000  \n",
       "75%        1.00000        1.000000    149388.247500      0.000000  \n",
       "max        1.00000        1.000000    199992.480000      1.000000  "
      ]
     },
     "execution_count": 8,
     "metadata": {},
     "output_type": "execute_result"
    }
   ],
   "source": [
    "df_churn.describe()"
   ]
  },
  {
   "cell_type": "markdown",
   "metadata": {},
   "source": [
    "Let's examine any potential correlations."
   ]
  },
  {
   "cell_type": "code",
   "execution_count": 9,
   "metadata": {
    "scrolled": true
   },
   "outputs": [],
   "source": [
    "#pd.plotting.scatter_matrix(df_churn, figsize = (15,15));"
   ]
  },
  {
   "cell_type": "markdown",
   "metadata": {},
   "source": [
    "Are the data types correct?"
   ]
  },
  {
   "cell_type": "code",
   "execution_count": 10,
   "metadata": {},
   "outputs": [
    {
     "data": {
      "text/plain": [
       "CreditScore          int64\n",
       "Geography           object\n",
       "Gender              object\n",
       "Age                  int64\n",
       "Tenure               int64\n",
       "Balance            float64\n",
       "NumOfProducts        int64\n",
       "HasCrCard            int64\n",
       "IsActiveMember       int64\n",
       "EstimatedSalary    float64\n",
       "Exited               int64\n",
       "dtype: object"
      ]
     },
     "execution_count": 10,
     "metadata": {},
     "output_type": "execute_result"
    }
   ],
   "source": [
    "df_churn.dtypes"
   ]
  },
  {
   "cell_type": "markdown",
   "metadata": {},
   "source": [
    "Not really. We need to convert the categorical values to numerical ones to be able to analyze them and use them in our models. We use the dummy function to do so."
   ]
  },
  {
   "cell_type": "code",
   "execution_count": 11,
   "metadata": {},
   "outputs": [],
   "source": [
    "Gender = pd.get_dummies(df_churn['Gender'], drop_first = False)\n",
    "Geography = pd.get_dummies(df_churn['Geography'], drop_first = False)"
   ]
  },
  {
   "cell_type": "code",
   "execution_count": 12,
   "metadata": {},
   "outputs": [
    {
     "data": {
      "text/html": [
       "<div>\n",
       "<style scoped>\n",
       "    .dataframe tbody tr th:only-of-type {\n",
       "        vertical-align: middle;\n",
       "    }\n",
       "\n",
       "    .dataframe tbody tr th {\n",
       "        vertical-align: top;\n",
       "    }\n",
       "\n",
       "    .dataframe thead th {\n",
       "        text-align: right;\n",
       "    }\n",
       "</style>\n",
       "<table border=\"1\" class=\"dataframe\">\n",
       "  <thead>\n",
       "    <tr style=\"text-align: right;\">\n",
       "      <th></th>\n",
       "      <th>Female</th>\n",
       "      <th>Male</th>\n",
       "    </tr>\n",
       "  </thead>\n",
       "  <tbody>\n",
       "    <tr>\n",
       "      <td>0</td>\n",
       "      <td>1</td>\n",
       "      <td>0</td>\n",
       "    </tr>\n",
       "    <tr>\n",
       "      <td>1</td>\n",
       "      <td>1</td>\n",
       "      <td>0</td>\n",
       "    </tr>\n",
       "    <tr>\n",
       "      <td>2</td>\n",
       "      <td>1</td>\n",
       "      <td>0</td>\n",
       "    </tr>\n",
       "    <tr>\n",
       "      <td>3</td>\n",
       "      <td>1</td>\n",
       "      <td>0</td>\n",
       "    </tr>\n",
       "    <tr>\n",
       "      <td>4</td>\n",
       "      <td>1</td>\n",
       "      <td>0</td>\n",
       "    </tr>\n",
       "  </tbody>\n",
       "</table>\n",
       "</div>"
      ],
      "text/plain": [
       "   Female  Male\n",
       "0       1     0\n",
       "1       1     0\n",
       "2       1     0\n",
       "3       1     0\n",
       "4       1     0"
      ]
     },
     "execution_count": 12,
     "metadata": {},
     "output_type": "execute_result"
    }
   ],
   "source": [
    "Gender.head()"
   ]
  },
  {
   "cell_type": "markdown",
   "metadata": {},
   "source": [
    "We add the two new columns to our dataset."
   ]
  },
  {
   "cell_type": "code",
   "execution_count": 13,
   "metadata": {
    "scrolled": true
   },
   "outputs": [],
   "source": [
    "df_churn = pd.concat([Gender,Geography,df_churn],axis = 1) #concatenate vertically"
   ]
  },
  {
   "cell_type": "markdown",
   "metadata": {},
   "source": [
    "## Modelling"
   ]
  },
  {
   "cell_type": "markdown",
   "metadata": {},
   "source": [
    "Separate dependent and independent features"
   ]
  },
  {
   "cell_type": "code",
   "execution_count": 20,
   "metadata": {},
   "outputs": [],
   "source": [
    "X = df_churn.iloc[:,:15]\n",
    "X.drop(['Gender','Geography'], axis = 1, inplace = True)"
   ]
  },
  {
   "cell_type": "code",
   "execution_count": 21,
   "metadata": {},
   "outputs": [
    {
     "data": {
      "text/html": [
       "<div>\n",
       "<style scoped>\n",
       "    .dataframe tbody tr th:only-of-type {\n",
       "        vertical-align: middle;\n",
       "    }\n",
       "\n",
       "    .dataframe tbody tr th {\n",
       "        vertical-align: top;\n",
       "    }\n",
       "\n",
       "    .dataframe thead th {\n",
       "        text-align: right;\n",
       "    }\n",
       "</style>\n",
       "<table border=\"1\" class=\"dataframe\">\n",
       "  <thead>\n",
       "    <tr style=\"text-align: right;\">\n",
       "      <th></th>\n",
       "      <th>Exited</th>\n",
       "    </tr>\n",
       "  </thead>\n",
       "  <tbody>\n",
       "    <tr>\n",
       "      <td>0</td>\n",
       "      <td>1</td>\n",
       "    </tr>\n",
       "    <tr>\n",
       "      <td>1</td>\n",
       "      <td>0</td>\n",
       "    </tr>\n",
       "    <tr>\n",
       "      <td>2</td>\n",
       "      <td>1</td>\n",
       "    </tr>\n",
       "    <tr>\n",
       "      <td>3</td>\n",
       "      <td>0</td>\n",
       "    </tr>\n",
       "    <tr>\n",
       "      <td>4</td>\n",
       "      <td>0</td>\n",
       "    </tr>\n",
       "    <tr>\n",
       "      <td>...</td>\n",
       "      <td>...</td>\n",
       "    </tr>\n",
       "    <tr>\n",
       "      <td>9995</td>\n",
       "      <td>0</td>\n",
       "    </tr>\n",
       "    <tr>\n",
       "      <td>9996</td>\n",
       "      <td>0</td>\n",
       "    </tr>\n",
       "    <tr>\n",
       "      <td>9997</td>\n",
       "      <td>1</td>\n",
       "    </tr>\n",
       "    <tr>\n",
       "      <td>9998</td>\n",
       "      <td>1</td>\n",
       "    </tr>\n",
       "    <tr>\n",
       "      <td>9999</td>\n",
       "      <td>0</td>\n",
       "    </tr>\n",
       "  </tbody>\n",
       "</table>\n",
       "<p>10000 rows × 1 columns</p>\n",
       "</div>"
      ],
      "text/plain": [
       "      Exited\n",
       "0          1\n",
       "1          0\n",
       "2          1\n",
       "3          0\n",
       "4          0\n",
       "...      ...\n",
       "9995       0\n",
       "9996       0\n",
       "9997       1\n",
       "9998       1\n",
       "9999       0\n",
       "\n",
       "[10000 rows x 1 columns]"
      ]
     },
     "execution_count": 21,
     "metadata": {},
     "output_type": "execute_result"
    }
   ],
   "source": [
    "#what we need to predict\n",
    "Y = df_churn.iloc[:,15:16]\n",
    "Y"
   ]
  },
  {
   "cell_type": "code",
   "execution_count": 22,
   "metadata": {},
   "outputs": [],
   "source": [
    "from sklearn.model_selection import train_test_split\n",
    "X_train, X_test, Y_train, Y_test = train_test_split(X,Y,test_size = 0.2, random_state = 0)"
   ]
  },
  {
   "cell_type": "code",
   "execution_count": 23,
   "metadata": {},
   "outputs": [
    {
     "data": {
      "text/html": [
       "<div>\n",
       "<style scoped>\n",
       "    .dataframe tbody tr th:only-of-type {\n",
       "        vertical-align: middle;\n",
       "    }\n",
       "\n",
       "    .dataframe tbody tr th {\n",
       "        vertical-align: top;\n",
       "    }\n",
       "\n",
       "    .dataframe thead th {\n",
       "        text-align: right;\n",
       "    }\n",
       "</style>\n",
       "<table border=\"1\" class=\"dataframe\">\n",
       "  <thead>\n",
       "    <tr style=\"text-align: right;\">\n",
       "      <th></th>\n",
       "      <th>Female</th>\n",
       "      <th>Male</th>\n",
       "      <th>France</th>\n",
       "      <th>Germany</th>\n",
       "      <th>Spain</th>\n",
       "      <th>CreditScore</th>\n",
       "      <th>Age</th>\n",
       "      <th>Tenure</th>\n",
       "      <th>Balance</th>\n",
       "      <th>NumOfProducts</th>\n",
       "      <th>HasCrCard</th>\n",
       "      <th>IsActiveMember</th>\n",
       "      <th>EstimatedSalary</th>\n",
       "    </tr>\n",
       "  </thead>\n",
       "  <tbody>\n",
       "    <tr>\n",
       "      <td>7389</td>\n",
       "      <td>1</td>\n",
       "      <td>0</td>\n",
       "      <td>0</td>\n",
       "      <td>0</td>\n",
       "      <td>1</td>\n",
       "      <td>667</td>\n",
       "      <td>34</td>\n",
       "      <td>5</td>\n",
       "      <td>0.00</td>\n",
       "      <td>2</td>\n",
       "      <td>1</td>\n",
       "      <td>0</td>\n",
       "      <td>163830.64</td>\n",
       "    </tr>\n",
       "    <tr>\n",
       "      <td>9275</td>\n",
       "      <td>0</td>\n",
       "      <td>1</td>\n",
       "      <td>0</td>\n",
       "      <td>1</td>\n",
       "      <td>0</td>\n",
       "      <td>427</td>\n",
       "      <td>42</td>\n",
       "      <td>1</td>\n",
       "      <td>75681.52</td>\n",
       "      <td>1</td>\n",
       "      <td>1</td>\n",
       "      <td>1</td>\n",
       "      <td>57098.00</td>\n",
       "    </tr>\n",
       "    <tr>\n",
       "      <td>2995</td>\n",
       "      <td>1</td>\n",
       "      <td>0</td>\n",
       "      <td>1</td>\n",
       "      <td>0</td>\n",
       "      <td>0</td>\n",
       "      <td>535</td>\n",
       "      <td>29</td>\n",
       "      <td>2</td>\n",
       "      <td>112367.34</td>\n",
       "      <td>1</td>\n",
       "      <td>1</td>\n",
       "      <td>0</td>\n",
       "      <td>185630.76</td>\n",
       "    </tr>\n",
       "    <tr>\n",
       "      <td>5316</td>\n",
       "      <td>0</td>\n",
       "      <td>1</td>\n",
       "      <td>0</td>\n",
       "      <td>0</td>\n",
       "      <td>1</td>\n",
       "      <td>654</td>\n",
       "      <td>40</td>\n",
       "      <td>5</td>\n",
       "      <td>105683.63</td>\n",
       "      <td>1</td>\n",
       "      <td>1</td>\n",
       "      <td>0</td>\n",
       "      <td>173617.09</td>\n",
       "    </tr>\n",
       "    <tr>\n",
       "      <td>356</td>\n",
       "      <td>1</td>\n",
       "      <td>0</td>\n",
       "      <td>0</td>\n",
       "      <td>0</td>\n",
       "      <td>1</td>\n",
       "      <td>850</td>\n",
       "      <td>57</td>\n",
       "      <td>8</td>\n",
       "      <td>126776.30</td>\n",
       "      <td>2</td>\n",
       "      <td>1</td>\n",
       "      <td>1</td>\n",
       "      <td>132298.49</td>\n",
       "    </tr>\n",
       "  </tbody>\n",
       "</table>\n",
       "</div>"
      ],
      "text/plain": [
       "      Female  Male  France  Germany  Spain  CreditScore  Age  Tenure  \\\n",
       "7389       1     0       0        0      1          667   34       5   \n",
       "9275       0     1       0        1      0          427   42       1   \n",
       "2995       1     0       1        0      0          535   29       2   \n",
       "5316       0     1       0        0      1          654   40       5   \n",
       "356        1     0       0        0      1          850   57       8   \n",
       "\n",
       "        Balance  NumOfProducts  HasCrCard  IsActiveMember  EstimatedSalary  \n",
       "7389       0.00              2          1               0        163830.64  \n",
       "9275   75681.52              1          1               1         57098.00  \n",
       "2995  112367.34              1          1               0        185630.76  \n",
       "5316  105683.63              1          1               0        173617.09  \n",
       "356   126776.30              2          1               1        132298.49  "
      ]
     },
     "execution_count": 23,
     "metadata": {},
     "output_type": "execute_result"
    }
   ],
   "source": [
    "X_train.head()"
   ]
  },
  {
   "cell_type": "code",
   "execution_count": 24,
   "metadata": {},
   "outputs": [
    {
     "data": {
      "text/html": [
       "<div>\n",
       "<style scoped>\n",
       "    .dataframe tbody tr th:only-of-type {\n",
       "        vertical-align: middle;\n",
       "    }\n",
       "\n",
       "    .dataframe tbody tr th {\n",
       "        vertical-align: top;\n",
       "    }\n",
       "\n",
       "    .dataframe thead th {\n",
       "        text-align: right;\n",
       "    }\n",
       "</style>\n",
       "<table border=\"1\" class=\"dataframe\">\n",
       "  <thead>\n",
       "    <tr style=\"text-align: right;\">\n",
       "      <th></th>\n",
       "      <th>Exited</th>\n",
       "    </tr>\n",
       "  </thead>\n",
       "  <tbody>\n",
       "    <tr>\n",
       "      <td>7389</td>\n",
       "      <td>0</td>\n",
       "    </tr>\n",
       "    <tr>\n",
       "      <td>9275</td>\n",
       "      <td>0</td>\n",
       "    </tr>\n",
       "    <tr>\n",
       "      <td>2995</td>\n",
       "      <td>0</td>\n",
       "    </tr>\n",
       "    <tr>\n",
       "      <td>5316</td>\n",
       "      <td>0</td>\n",
       "    </tr>\n",
       "    <tr>\n",
       "      <td>356</td>\n",
       "      <td>0</td>\n",
       "    </tr>\n",
       "  </tbody>\n",
       "</table>\n",
       "</div>"
      ],
      "text/plain": [
       "      Exited\n",
       "7389       0\n",
       "9275       0\n",
       "2995       0\n",
       "5316       0\n",
       "356        0"
      ]
     },
     "execution_count": 24,
     "metadata": {},
     "output_type": "execute_result"
    }
   ],
   "source": [
    "Y_train.head()"
   ]
  },
  {
   "cell_type": "markdown",
   "metadata": {},
   "source": [
    "## Feature Scaling"
   ]
  },
  {
   "cell_type": "markdown",
   "metadata": {},
   "source": [
    "Now we need to scale our data to ensure that the step in the learning process is fair to all the attributes to reach the local minimum(-a) faster. There are several ways to accomplish this: we either do normalization or standardization.\n",
    "<br> Standardization, used to move the mean to 0 and standard deviation to the unit (1) is used when a Guassian distribution is assumed. This may or may not be the case for our data.\n",
    "<br> Normalization, used to move the range for all attributes from 0 to 1. \n",
    "<br> <br> \n",
    "Our best bet is to try both and see which gives better results."
   ]
  },
  {
   "cell_type": "markdown",
   "metadata": {},
   "source": [
    "### Standardization"
   ]
  },
  {
   "cell_type": "code",
   "execution_count": 25,
   "metadata": {},
   "outputs": [],
   "source": [
    "from sklearn.preprocessing import StandardScaler\n",
    "sc = StandardScaler()\n",
    "X_train_std = sc.fit_transform(X_train)\n",
    "X_test_std = sc.fit_transform(X_test)"
   ]
  },
  {
   "cell_type": "markdown",
   "metadata": {},
   "source": [
    "## Constructing the Artifical Neural Network with Keras"
   ]
  },
  {
   "cell_type": "code",
   "execution_count": 40,
   "metadata": {},
   "outputs": [],
   "source": [
    "#importing libraries for modelling\n",
    "import tensorflow\n",
    "from tensorflow.keras.models import Sequential #this is the \"base\" model. It allows us to create any deep learning architecture of our choice by adding layers to it.\n",
    "from tensorflow.keras.layers import Dense #this helps us to create hidden layers\n",
    "from tensorflow.keras.layers import Dropout #regularization technique to prevent overfitting. It deactivates some neurons at random (weight = 0) to accomplish that."
   ]
  },
  {
   "cell_type": "markdown",
   "metadata": {},
   "source": [
    "Initialize base model."
   ]
  },
  {
   "cell_type": "code",
   "execution_count": 41,
   "metadata": {},
   "outputs": [],
   "source": [
    "NN = Sequential()"
   ]
  },
  {
   "cell_type": "code",
   "execution_count": 45,
   "metadata": {},
   "outputs": [
    {
     "data": {
      "text/plain": [
       "(8000, 13)"
      ]
     },
     "execution_count": 45,
     "metadata": {},
     "output_type": "execute_result"
    }
   ],
   "source": [
    "#we have 13 features as input to the first hidden layer.\n",
    "X_train_std.shape"
   ]
  },
  {
   "cell_type": "markdown",
   "metadata": {},
   "source": [
    "Let's add one hidden layer taking our input. We will try the ReLU activation function."
   ]
  },
  {
   "cell_type": "markdown",
   "metadata": {},
   "source": [
    "We use hyperoptimization techniques to know how many neurons to add in our hidden layers."
   ]
  },
  {
   "cell_type": "code",
   "execution_count": 56,
   "metadata": {},
   "outputs": [],
   "source": [
    "Hidden_1 = Dense(units = 6, kernel_initializer = 'he_uniform',activation = 'relu', input_dim = 13) #check initialization + vanishing gradient\n",
    "NN.add(Hidden_1)"
   ]
  },
  {
   "cell_type": "code",
   "execution_count": 57,
   "metadata": {},
   "outputs": [],
   "source": [
    "Hidden_2 = Dense(units = 6, kernel_initializer = 'he_uniform', activation = 'relu')\n",
    "NN.add(Hidden_2)"
   ]
  },
  {
   "cell_type": "code",
   "execution_count": 58,
   "metadata": {},
   "outputs": [],
   "source": [
    "#here, we need one hidden neuron since this is a classification problem. Our \n",
    "Output = Dense(units = 1, kernel_initializer = 'glorot_uniform', activation = 'sigmoid')\n",
    "NN.add(Output)"
   ]
  },
  {
   "cell_type": "code",
   "execution_count": 59,
   "metadata": {},
   "outputs": [
    {
     "name": "stdout",
     "output_type": "stream",
     "text": [
      "Model: \"sequential\"\n",
      "_________________________________________________________________\n",
      "Layer (type)                 Output Shape              Param #   \n",
      "=================================================================\n",
      "dense_8 (Dense)              (None, 6)                 84        \n",
      "_________________________________________________________________\n",
      "dense_9 (Dense)              (None, 6)                 42        \n",
      "_________________________________________________________________\n",
      "dense_10 (Dense)             (None, 1)                 7         \n",
      "=================================================================\n",
      "Total params: 133\n",
      "Trainable params: 133\n",
      "Non-trainable params: 0\n",
      "_________________________________________________________________\n"
     ]
    }
   ],
   "source": [
    "NN.summary()"
   ]
  },
  {
   "cell_type": "code",
   "execution_count": 68,
   "metadata": {},
   "outputs": [],
   "source": [
    "# Compiling the ANN\n",
    "NN.compile(optimizer = 'Adamax', loss = 'binary_crossentropy', metrics = ['accuracy'])\n"
   ]
  },
  {
   "cell_type": "code",
   "execution_count": 71,
   "metadata": {},
   "outputs": [
    {
     "name": "stdout",
     "output_type": "stream",
     "text": [
      "WARNING:tensorflow:Falling back from v2 loop because of error: Failed to find data adapter that can handle input: <class 'pandas.core.frame.DataFrame'>, <class 'NoneType'>\n",
      "Train on 5359 samples, validate on 2641 samples\n",
      "Epoch 1/100\n",
      "5359/5359 [==============================] - 6s 1ms/sample - loss: 0.5936 - accuracy: 0.7218 - val_loss: 0.5218 - val_accuracy: 0.7936\n",
      "Epoch 2/100\n",
      "5359/5359 [==============================] - 4s 749us/sample - loss: 0.4987 - accuracy: 0.7959 - val_loss: 0.4893 - val_accuracy: 0.7955\n",
      "Epoch 3/100\n",
      "5359/5359 [==============================] - 4s 762us/sample - loss: 0.4798 - accuracy: 0.7962 - val_loss: 0.4810 - val_accuracy: 0.7955\n",
      "Epoch 4/100\n",
      "5359/5359 [==============================] - 4s 786us/sample - loss: 0.4714 - accuracy: 0.7962 - val_loss: 0.4753 - val_accuracy: 0.7955\n",
      "Epoch 5/100\n",
      "5359/5359 [==============================] - 4s 735us/sample - loss: 0.4650 - accuracy: 0.7962 - val_loss: 0.4702 - val_accuracy: 0.7955\n",
      "Epoch 6/100\n",
      "5359/5359 [==============================] - 4s 786us/sample - loss: 0.4599 - accuracy: 0.7962 - val_loss: 0.4661 - val_accuracy: 0.7955\n",
      "Epoch 7/100\n",
      "5359/5359 [==============================] - 4s 812us/sample - loss: 0.4555 - accuracy: 0.7962 - val_loss: 0.4626 - val_accuracy: 0.7955\n",
      "Epoch 8/100\n",
      "5359/5359 [==============================] - 4s 797us/sample - loss: 0.4518 - accuracy: 0.7962 - val_loss: 0.4596 - val_accuracy: 0.7955\n",
      "Epoch 9/100\n",
      "5359/5359 [==============================] - 4s 746us/sample - loss: 0.4485 - accuracy: 0.7964 - val_loss: 0.4567 - val_accuracy: 0.7944\n",
      "Epoch 10/100\n",
      "5359/5359 [==============================] - 6s 1ms/sample - loss: 0.4452 - accuracy: 0.7975 - val_loss: 0.4541 - val_accuracy: 0.7936\n",
      "Epoch 11/100\n",
      "5359/5359 [==============================] - 5s 985us/sample - loss: 0.4421 - accuracy: 0.7990 - val_loss: 0.4520 - val_accuracy: 0.7955\n",
      "Epoch 12/100\n",
      "5359/5359 [==============================] - 5s 1ms/sample - loss: 0.4392 - accuracy: 0.8007 - val_loss: 0.4494 - val_accuracy: 0.7944\n",
      "Epoch 13/100\n",
      "5359/5359 [==============================] - 5s 858us/sample - loss: 0.4362 - accuracy: 0.8011 - val_loss: 0.4473 - val_accuracy: 0.7978\n",
      "Epoch 14/100\n",
      "5359/5359 [==============================] - 4s 761us/sample - loss: 0.4335 - accuracy: 0.8035 - val_loss: 0.4450 - val_accuracy: 0.7974\n",
      "Epoch 15/100\n",
      "5359/5359 [==============================] - 5s 847us/sample - loss: 0.4309 - accuracy: 0.8044 - val_loss: 0.4430 - val_accuracy: 0.7978\n",
      "Epoch 16/100\n",
      "5359/5359 [==============================] - 4s 764us/sample - loss: 0.4287 - accuracy: 0.8052 - val_loss: 0.4411 - val_accuracy: 0.7989\n",
      "Epoch 17/100\n",
      "5359/5359 [==============================] - 4s 765us/sample - loss: 0.4265 - accuracy: 0.8046 - val_loss: 0.4394 - val_accuracy: 0.7997\n",
      "Epoch 18/100\n",
      "5359/5359 [==============================] - 4s 830us/sample - loss: 0.4245 - accuracy: 0.8080 - val_loss: 0.4377 - val_accuracy: 0.8005\n",
      "Epoch 19/100\n",
      "5359/5359 [==============================] - 5s 931us/sample - loss: 0.4226 - accuracy: 0.8099 - val_loss: 0.4361 - val_accuracy: 0.8012\n",
      "Epoch 20/100\n",
      "5359/5359 [==============================] - 5s 936us/sample - loss: 0.4210 - accuracy: 0.8104 - val_loss: 0.4346 - val_accuracy: 0.8008\n",
      "Epoch 21/100\n",
      "5359/5359 [==============================] - 5s 925us/sample - loss: 0.4192 - accuracy: 0.8104 - val_loss: 0.4332 - val_accuracy: 0.7997\n",
      "Epoch 22/100\n",
      "5359/5359 [==============================] - 5s 934us/sample - loss: 0.4177 - accuracy: 0.8085 - val_loss: 0.4318 - val_accuracy: 0.8020\n",
      "Epoch 23/100\n",
      "5359/5359 [==============================] - 4s 771us/sample - loss: 0.4162 - accuracy: 0.8095 - val_loss: 0.4304 - val_accuracy: 0.8005\n",
      "Epoch 24/100\n",
      "5359/5359 [==============================] - 4s 772us/sample - loss: 0.4145 - accuracy: 0.8085 - val_loss: 0.4288 - val_accuracy: 0.8008\n",
      "Epoch 25/100\n",
      "5359/5359 [==============================] - 4s 761us/sample - loss: 0.4128 - accuracy: 0.8104 - val_loss: 0.4271 - val_accuracy: 0.7982\n",
      "Epoch 26/100\n",
      "5359/5359 [==============================] - 5s 878us/sample - loss: 0.4109 - accuracy: 0.8113 - val_loss: 0.4255 - val_accuracy: 0.7989\n",
      "Epoch 27/100\n",
      "5359/5359 [==============================] - 5s 896us/sample - loss: 0.4088 - accuracy: 0.8121 - val_loss: 0.4238 - val_accuracy: 0.8005\n",
      "Epoch 28/100\n",
      "5359/5359 [==============================] - 4s 782us/sample - loss: 0.4066 - accuracy: 0.8140 - val_loss: 0.4219 - val_accuracy: 0.8005\n",
      "Epoch 29/100\n",
      "5359/5359 [==============================] - 4s 700us/sample - loss: 0.4042 - accuracy: 0.8168 - val_loss: 0.4202 - val_accuracy: 0.8020\n",
      "Epoch 30/100\n",
      "5359/5359 [==============================] - 4s 743us/sample - loss: 0.4019 - accuracy: 0.8194 - val_loss: 0.4182 - val_accuracy: 0.8039\n",
      "Epoch 31/100\n",
      "5359/5359 [==============================] - 4s 666us/sample - loss: 0.3993 - accuracy: 0.8231 - val_loss: 0.4165 - val_accuracy: 0.8061\n",
      "Epoch 32/100\n",
      "5359/5359 [==============================] - 4s 690us/sample - loss: 0.3969 - accuracy: 0.8235 - val_loss: 0.4148 - val_accuracy: 0.8046\n",
      "Epoch 33/100\n",
      "5359/5359 [==============================] - 4s 758us/sample - loss: 0.3944 - accuracy: 0.8250 - val_loss: 0.4128 - val_accuracy: 0.8058\n",
      "Epoch 34/100\n",
      "5359/5359 [==============================] - 5s 874us/sample - loss: 0.3916 - accuracy: 0.8274 - val_loss: 0.4109 - val_accuracy: 0.8058\n",
      "Epoch 35/100\n",
      "5359/5359 [==============================] - 4s 816us/sample - loss: 0.3890 - accuracy: 0.8291 - val_loss: 0.4092 - val_accuracy: 0.8073\n",
      "Epoch 36/100\n",
      "5359/5359 [==============================] - 5s 893us/sample - loss: 0.3867 - accuracy: 0.8293 - val_loss: 0.4074 - val_accuracy: 0.8084\n",
      "Epoch 37/100\n",
      "5359/5359 [==============================] - 4s 840us/sample - loss: 0.3841 - accuracy: 0.8311 - val_loss: 0.4055 - val_accuracy: 0.8103\n",
      "Epoch 38/100\n",
      "5359/5359 [==============================] - 5s 926us/sample - loss: 0.3818 - accuracy: 0.8337 - val_loss: 0.4040 - val_accuracy: 0.8141\n",
      "Epoch 39/100\n",
      "5359/5359 [==============================] - 4s 779us/sample - loss: 0.3796 - accuracy: 0.8337 - val_loss: 0.4024 - val_accuracy: 0.8152\n",
      "Epoch 40/100\n",
      "5359/5359 [==============================] - 4s 839us/sample - loss: 0.3777 - accuracy: 0.8375 - val_loss: 0.4010 - val_accuracy: 0.8164\n",
      "Epoch 41/100\n",
      "5359/5359 [==============================] - 5s 872us/sample - loss: 0.3756 - accuracy: 0.8390 - val_loss: 0.3996 - val_accuracy: 0.8160\n",
      "Epoch 42/100\n",
      "5359/5359 [==============================] - 4s 739us/sample - loss: 0.3738 - accuracy: 0.8397 - val_loss: 0.3979 - val_accuracy: 0.8167\n",
      "Epoch 43/100\n",
      "5359/5359 [==============================] - 4s 746us/sample - loss: 0.3717 - accuracy: 0.8405 - val_loss: 0.3966 - val_accuracy: 0.8175\n",
      "Epoch 44/100\n",
      "5359/5359 [==============================] - 4s 763us/sample - loss: 0.3701 - accuracy: 0.8423 - val_loss: 0.3948 - val_accuracy: 0.8209\n",
      "Epoch 45/100\n",
      "5359/5359 [==============================] - 4s 821us/sample - loss: 0.3682 - accuracy: 0.8447 - val_loss: 0.3932 - val_accuracy: 0.8201\n",
      "Epoch 46/100\n",
      "5359/5359 [==============================] - 4s 796us/sample - loss: 0.3666 - accuracy: 0.8449 - val_loss: 0.3918 - val_accuracy: 0.8217\n",
      "Epoch 47/100\n",
      "5359/5359 [==============================] - 4s 832us/sample - loss: 0.3649 - accuracy: 0.8453 - val_loss: 0.3899 - val_accuracy: 0.8239\n",
      "Epoch 48/100\n",
      "5359/5359 [==============================] - 5s 900us/sample - loss: 0.3632 - accuracy: 0.8462 - val_loss: 0.3883 - val_accuracy: 0.8262\n",
      "Epoch 49/100\n",
      "5359/5359 [==============================] - 5s 846us/sample - loss: 0.3618 - accuracy: 0.8477 - val_loss: 0.3869 - val_accuracy: 0.8277\n",
      "Epoch 50/100\n",
      "5359/5359 [==============================] - 4s 839us/sample - loss: 0.3603 - accuracy: 0.8485 - val_loss: 0.3855 - val_accuracy: 0.8273\n",
      "Epoch 51/100\n",
      "5359/5359 [==============================] - 4s 827us/sample - loss: 0.3588 - accuracy: 0.8485 - val_loss: 0.3846 - val_accuracy: 0.8277\n",
      "Epoch 52/100\n",
      "5359/5359 [==============================] - 4s 823us/sample - loss: 0.3574 - accuracy: 0.8490 - val_loss: 0.3833 - val_accuracy: 0.8296\n",
      "Epoch 53/100\n",
      "5359/5359 [==============================] - 4s 779us/sample - loss: 0.3564 - accuracy: 0.8513 - val_loss: 0.3820 - val_accuracy: 0.8304\n",
      "Epoch 54/100\n",
      "5359/5359 [==============================] - 4s 763us/sample - loss: 0.3553 - accuracy: 0.8509 - val_loss: 0.3810 - val_accuracy: 0.8292\n",
      "Epoch 55/100\n",
      "5359/5359 [==============================] - 4s 754us/sample - loss: 0.3539 - accuracy: 0.8492 - val_loss: 0.3796 - val_accuracy: 0.8289\n",
      "Epoch 56/100\n",
      "5359/5359 [==============================] - 4s 762us/sample - loss: 0.3528 - accuracy: 0.8520 - val_loss: 0.3785 - val_accuracy: 0.8296\n",
      "Epoch 57/100\n",
      "5359/5359 [==============================] - 4s 741us/sample - loss: 0.3518 - accuracy: 0.8518 - val_loss: 0.3777 - val_accuracy: 0.8304\n",
      "Epoch 58/100\n",
      "5359/5359 [==============================] - 5s 878us/sample - loss: 0.3509 - accuracy: 0.8545 - val_loss: 0.3771 - val_accuracy: 0.8307\n",
      "Epoch 59/100\n",
      "5359/5359 [==============================] - 4s 747us/sample - loss: 0.3502 - accuracy: 0.8518 - val_loss: 0.3761 - val_accuracy: 0.8323\n",
      "Epoch 60/100\n",
      "5359/5359 [==============================] - 5s 859us/sample - loss: 0.3495 - accuracy: 0.8531 - val_loss: 0.3754 - val_accuracy: 0.8334\n",
      "Epoch 61/100\n",
      "5359/5359 [==============================] - 4s 784us/sample - loss: 0.3484 - accuracy: 0.8546 - val_loss: 0.3743 - val_accuracy: 0.8353\n",
      "Epoch 62/100\n",
      "5359/5359 [==============================] - 4s 769us/sample - loss: 0.3478 - accuracy: 0.8545 - val_loss: 0.3737 - val_accuracy: 0.8345\n",
      "Epoch 63/100\n",
      "5359/5359 [==============================] - 4s 796us/sample - loss: 0.3469 - accuracy: 0.8545 - val_loss: 0.3731 - val_accuracy: 0.8360\n",
      "Epoch 64/100\n",
      "5359/5359 [==============================] - 4s 791us/sample - loss: 0.3460 - accuracy: 0.8559 - val_loss: 0.3726 - val_accuracy: 0.8376\n",
      "Epoch 65/100\n",
      "5359/5359 [==============================] - 4s 813us/sample - loss: 0.3456 - accuracy: 0.8567 - val_loss: 0.3720 - val_accuracy: 0.8372\n",
      "Epoch 66/100\n",
      "5359/5359 [==============================] - 4s 681us/sample - loss: 0.3448 - accuracy: 0.8567 - val_loss: 0.3712 - val_accuracy: 0.8402\n",
      "Epoch 67/100\n",
      "5359/5359 [==============================] - 4s 682us/sample - loss: 0.3440 - accuracy: 0.8587 - val_loss: 0.3710 - val_accuracy: 0.8413\n",
      "Epoch 68/100\n",
      "5359/5359 [==============================] - 4s 720us/sample - loss: 0.3436 - accuracy: 0.8569 - val_loss: 0.3703 - val_accuracy: 0.8410\n",
      "Epoch 69/100\n",
      "5359/5359 [==============================] - 4s 664us/sample - loss: 0.3428 - accuracy: 0.8582 - val_loss: 0.3696 - val_accuracy: 0.8406\n",
      "Epoch 70/100\n",
      "5359/5359 [==============================] - 4s 660us/sample - loss: 0.3423 - accuracy: 0.8595 - val_loss: 0.3691 - val_accuracy: 0.8417\n",
      "Epoch 71/100\n",
      "5359/5359 [==============================] - 4s 659us/sample - loss: 0.3418 - accuracy: 0.8597 - val_loss: 0.3690 - val_accuracy: 0.8429\n",
      "Epoch 72/100\n",
      "5359/5359 [==============================] - 4s 656us/sample - loss: 0.3414 - accuracy: 0.8597 - val_loss: 0.3687 - val_accuracy: 0.8425\n",
      "Epoch 73/100\n",
      "5359/5359 [==============================] - 4s 655us/sample - loss: 0.3409 - accuracy: 0.8612 - val_loss: 0.3685 - val_accuracy: 0.8410\n",
      "Epoch 74/100\n",
      "5359/5359 [==============================] - 3s 650us/sample - loss: 0.3404 - accuracy: 0.8599 - val_loss: 0.3682 - val_accuracy: 0.8421\n",
      "Epoch 75/100\n",
      "5359/5359 [==============================] - 3s 653us/sample - loss: 0.3399 - accuracy: 0.8612 - val_loss: 0.3678 - val_accuracy: 0.8421\n",
      "Epoch 76/100\n",
      "5359/5359 [==============================] - 4s 659us/sample - loss: 0.3396 - accuracy: 0.8597 - val_loss: 0.3677 - val_accuracy: 0.8432\n",
      "Epoch 77/100\n",
      "5359/5359 [==============================] - 4s 703us/sample - loss: 0.3391 - accuracy: 0.8617 - val_loss: 0.3675 - val_accuracy: 0.8436\n",
      "Epoch 78/100\n",
      "5359/5359 [==============================] - 4s 702us/sample - loss: 0.3386 - accuracy: 0.8608 - val_loss: 0.3671 - val_accuracy: 0.8429\n",
      "Epoch 79/100\n",
      "5359/5359 [==============================] - 4s 656us/sample - loss: 0.3383 - accuracy: 0.8617 - val_loss: 0.3672 - val_accuracy: 0.8451\n",
      "Epoch 80/100\n",
      "5359/5359 [==============================] - 4s 654us/sample - loss: 0.3380 - accuracy: 0.8632 - val_loss: 0.3666 - val_accuracy: 0.8440\n",
      "Epoch 81/100\n",
      "5359/5359 [==============================] - 4s 715us/sample - loss: 0.3374 - accuracy: 0.8628 - val_loss: 0.3674 - val_accuracy: 0.8474\n",
      "Epoch 82/100\n",
      "5359/5359 [==============================] - 4s 812us/sample - loss: 0.3373 - accuracy: 0.8610 - val_loss: 0.3662 - val_accuracy: 0.8451\n",
      "Epoch 83/100\n",
      "5359/5359 [==============================] - 4s 806us/sample - loss: 0.3370 - accuracy: 0.8619 - val_loss: 0.3660 - val_accuracy: 0.8451\n",
      "Epoch 84/100\n",
      "5359/5359 [==============================] - 4s 793us/sample - loss: 0.3367 - accuracy: 0.8610 - val_loss: 0.3657 - val_accuracy: 0.8463\n",
      "Epoch 85/100\n",
      "5359/5359 [==============================] - 5s 968us/sample - loss: 0.3366 - accuracy: 0.8630 - val_loss: 0.3658 - val_accuracy: 0.8474\n",
      "Epoch 86/100\n",
      "5359/5359 [==============================] - 5s 842us/sample - loss: 0.3363 - accuracy: 0.8630 - val_loss: 0.3657 - val_accuracy: 0.8482\n",
      "Epoch 87/100\n",
      "5359/5359 [==============================] - 5s 995us/sample - loss: 0.3360 - accuracy: 0.8649 - val_loss: 0.3658 - val_accuracy: 0.8478\n",
      "Epoch 88/100\n",
      "5359/5359 [==============================] - 5s 903us/sample - loss: 0.3360 - accuracy: 0.8634 - val_loss: 0.3653 - val_accuracy: 0.8455\n",
      "Epoch 89/100\n",
      "5359/5359 [==============================] - 5s 915us/sample - loss: 0.3357 - accuracy: 0.8630 - val_loss: 0.3655 - val_accuracy: 0.8459\n",
      "Epoch 90/100\n",
      "5359/5359 [==============================] - 6s 1ms/sample - loss: 0.3358 - accuracy: 0.8638 - val_loss: 0.3653 - val_accuracy: 0.8482\n",
      "Epoch 91/100\n",
      "5359/5359 [==============================] - 4s 752us/sample - loss: 0.3355 - accuracy: 0.8655 - val_loss: 0.3652 - val_accuracy: 0.8493\n",
      "Epoch 92/100\n",
      "5359/5359 [==============================] - 4s 772us/sample - loss: 0.3353 - accuracy: 0.8649 - val_loss: 0.3652 - val_accuracy: 0.8493\n",
      "Epoch 93/100\n",
      "5359/5359 [==============================] - 4s 732us/sample - loss: 0.3353 - accuracy: 0.8630 - val_loss: 0.3649 - val_accuracy: 0.8504\n",
      "Epoch 94/100\n",
      "5359/5359 [==============================] - 4s 758us/sample - loss: 0.3351 - accuracy: 0.8649 - val_loss: 0.3649 - val_accuracy: 0.8501\n",
      "Epoch 95/100\n",
      "5359/5359 [==============================] - 6s 1ms/sample - loss: 0.3350 - accuracy: 0.8630 - val_loss: 0.3652 - val_accuracy: 0.8516\n",
      "Epoch 96/100\n",
      "5359/5359 [==============================] - 6s 1ms/sample - loss: 0.3351 - accuracy: 0.8638 - val_loss: 0.3642 - val_accuracy: 0.8501\n",
      "Epoch 97/100\n",
      "5359/5359 [==============================] - 4s 827us/sample - loss: 0.3347 - accuracy: 0.8634 - val_loss: 0.3647 - val_accuracy: 0.8493\n",
      "Epoch 98/100\n",
      "5359/5359 [==============================] - 5s 849us/sample - loss: 0.3346 - accuracy: 0.8623 - val_loss: 0.3644 - val_accuracy: 0.8489\n",
      "Epoch 99/100\n",
      "5359/5359 [==============================] - 4s 755us/sample - loss: 0.3343 - accuracy: 0.8638 - val_loss: 0.3649 - val_accuracy: 0.8504\n",
      "Epoch 100/100\n",
      "5359/5359 [==============================] - 4s 749us/sample - loss: 0.3345 - accuracy: 0.8625 - val_loss: 0.3647 - val_accuracy: 0.8497\n"
     ]
    }
   ],
   "source": [
    "\n",
    "# Fitting the ANN to the Training set\n",
    "model_history=NN.fit(pd.DataFrame(X_train_std), Y_train, validation_split=0.33, batch_size = 10, epochs = 100)"
   ]
  },
  {
   "cell_type": "code",
   "execution_count": 76,
   "metadata": {},
   "outputs": [
    {
     "name": "stdout",
     "output_type": "stream",
     "text": [
      "0.8625\n"
     ]
    }
   ],
   "source": [
    "Y_pred = NN.predict(X_test_std)\n",
    "Y_pred = (Y_pred > 0.5)\n",
    "\n",
    "from sklearn.metrics import accuracy_score\n",
    "score=accuracy_score(Y_pred,Y_test)\n",
    "print(score)"
   ]
  },
  {
   "cell_type": "markdown",
   "metadata": {},
   "source": [
    "Some thing I learned..\n",
    "- how does adam optimization work\n",
    "- what is validation\n",
    "- what is a batch\n",
    "- what is an epoch\n",
    "- how does dropout work\n",
    "- how to do initialization\n",
    "- how to choose activation\n",
    "- what is accuracy\n",
    "- what is loss in compile"
   ]
  },
  {
   "cell_type": "code",
   "execution_count": null,
   "metadata": {},
   "outputs": [],
   "source": []
  },
  {
   "cell_type": "code",
   "execution_count": null,
   "metadata": {},
   "outputs": [],
   "source": []
  }
 ],
 "metadata": {
  "kernelspec": {
   "display_name": "Python 3",
   "language": "python",
   "name": "python3"
  },
  "language_info": {
   "codemirror_mode": {
    "name": "ipython",
    "version": 3
   },
   "file_extension": ".py",
   "mimetype": "text/x-python",
   "name": "python",
   "nbconvert_exporter": "python",
   "pygments_lexer": "ipython3",
   "version": "3.7.4"
  }
 },
 "nbformat": 4,
 "nbformat_minor": 2
}
